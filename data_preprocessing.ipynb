{
 "cells": [
  {
   "cell_type": "code",
   "execution_count": 25,
   "id": "32a002d1-01a8-4f0b-9d16-0a5614a3edb7",
   "metadata": {},
   "outputs": [
    {
     "name": "stderr",
     "output_type": "stream",
     "text": [
      "[nltk_data] Downloading package stopwords to\n",
      "[nltk_data]     C:\\Users\\akasa\\AppData\\Roaming\\nltk_data...\n",
      "[nltk_data]   Package stopwords is already up-to-date!\n",
      "[nltk_data] Downloading package punkt to\n",
      "[nltk_data]     C:\\Users\\akasa\\AppData\\Roaming\\nltk_data...\n",
      "[nltk_data]   Package punkt is already up-to-date!\n",
      "[nltk_data] Downloading package wordnet to\n",
      "[nltk_data]     C:\\Users\\akasa\\AppData\\Roaming\\nltk_data...\n",
      "[nltk_data]   Package wordnet is already up-to-date!\n",
      "[nltk_data] Downloading package punkt_tab to\n",
      "[nltk_data]     C:\\Users\\akasa\\AppData\\Roaming\\nltk_data...\n",
      "[nltk_data]   Package punkt_tab is already up-to-date!\n"
     ]
    },
    {
     "data": {
      "text/plain": [
       "True"
      ]
     },
     "execution_count": 25,
     "metadata": {},
     "output_type": "execute_result"
    }
   ],
   "source": [
    "# Импорт библиотек\n",
    "import pandas as pd\n",
    "import numpy as np\n",
    "import re\n",
    "import matplotlib.pyplot as plt\n",
    "import seaborn as sns\n",
    "from wordcloud import WordCloud\n",
    "from collections import Counter\n",
    "from nltk.corpus import stopwords\n",
    "from nltk.tokenize import word_tokenize\n",
    "from nltk.stem import WordNetLemmatizer\n",
    "import nltk\n",
    "import pymorphy3\n",
    "from pymorphy3 import MorphAnalyzer\n",
    "\n",
    "morph = MorphAnalyzer(lang='ru')\n",
    "nltk.download('stopwords')\n",
    "nltk.download('punkt')\n",
    "nltk.download('wordnet')\n",
    "nltk.download('punkt_tab')"
   ]
  },
  {
   "cell_type": "code",
   "execution_count": 26,
   "id": "32562227-ba78-4573-8bfb-041c73d5d0e8",
   "metadata": {},
   "outputs": [],
   "source": [
    "# Функции для очистки текста\n",
    "\n",
    "def clean_text(text):\n",
    "    text = re.sub(r'<[^>]*>', ' ', text, flags=re.MULTILINE)\n",
    "    text = re.sub(r'https?://\\S+|www\\.\\S+', ' ', text)\n",
    "    text = re.sub(r'[^а-яА-ЯёЁ\\s-]', '', text, flags=re.IGNORECASE)\n",
    "    text = re.sub(r'[\\s-]+', ' ', text)\n",
    "    return text.strip().lower()\n",
    "\n",
    "def remove_stopwords(text, language='russian'):\n",
    "    base_stopwords = set(stopwords.words(language))\n",
    "    keep_words = {\n",
    "        'не', 'ни', 'нет', 'без', 'никак', 'вовсе', 'отнюдь',  # Отрицания\n",
    "        'очень', 'совсем', 'абсолютно', 'совершенно', 'крайне',  # Интенсификаторы\n",
    "        'ли', 'ведь', 'либо', 'даже',  # Модальные частицы\n",
    "        'хорошо', 'плохо', 'ужасно', 'прекрасно'  # Оценочные прилагательные\n",
    "    }\n",
    "    final_stopwords = base_stopwords - keep_words\n",
    "    words = word_tokenize(text, language='russian')\n",
    "    return ' '.join([w for w in words if w.lower() not in final_stopwords])\n",
    "\n",
    "def lemmatize_text(text):\n",
    "    words = word_tokenize(text, language='russian')\n",
    "    lemmas = []\n",
    "    for word in words:\n",
    "        parsed = morph.parse(word)[0]\n",
    "        lemmas.append(parsed.normal_form)\n",
    "    return ' '.join(lemmas)\n",
    "\n",
    "def preprocess_data(df):\n",
    "    df[text_column] = df[text_column].str.replace(r'\\b\\d+\\b', '')\n",
    "    df[text_column] = df[text_column].apply(clean_text)\n",
    "    df[text_column] = df[text_column].apply(correct_spelling)\n",
    "    df[text_column] = df[text_column].apply(remove_stopwords)\n",
    "    df[text_column] = df[text_column].apply(lemmatize_text)\n",
    "    return df"
   ]
  },
  {
   "cell_type": "code",
   "execution_count": 27,
   "id": "e5a7647b-b143-48a1-96cc-bf42a4edc501",
   "metadata": {},
   "outputs": [],
   "source": [
    "# Функции для визуализации\n",
    "def plot_class_distribution(df, label_column='sentiment'):\n",
    "    sns.countplot(data=df, x=label_column)\n",
    "    plt.title('Распределение классов')\n",
    "    plt.show()\n",
    "\n",
    "def plot_wordcloud(text):\n",
    "    wordcloud = WordCloud(width=800, height=400, background_color='white').generate(text)\n",
    "    plt.figure(figsize=(10, 5))\n",
    "    plt.imshow(wordcloud, interpolation='bilinear')\n",
    "    plt.axis('off')\n",
    "    plt.show()\n",
    "\n",
    "def plot_text_length_distribution(df):\n",
    "    df['text_length'] = df[text_column].apply(len)\n",
    "    sns.histplot(data=df, x='text_length', bins=50)\n",
    "    plt.title('Распределение длины текста')\n",
    "    plt.show()\n",
    "\n",
    "def plot_text_length_boxplot(df):\n",
    "    df['text_length'] = df[text_column].apply(len)\n",
    "    sns.boxplot(data=df, x='text_length')\n",
    "    plt.title('Распределение длины текста (Boxplot)')\n",
    "    plt.show()\n",
    "\n",
    "def plot_top_n_words(df, n=20):\n",
    "    words = ' '.join(df[text_column]).split()\n",
    "    word_counts = Counter(words)\n",
    "    top_words = word_counts.most_common(n)\n",
    "    sns.barplot(x=[count for word, count in top_words], y=[word for word, count in top_words])\n",
    "    plt.title(f'Топ-{n} самых частых слов')\n",
    "    plt.show()\n",
    "\n",
    "def visualization_of_the_dataset(df):\n",
    "    plot_class_distribution(df)\n",
    "    plot_text_length_distribution(df)\n",
    "    all_text = ' '.join(df[text_column])\n",
    "    plot_wordcloud(all_text)\n",
    "    plot_text_length_boxplot(df)\n",
    "    plot_top_n_words(df, n=20)"
   ]
  },
  {
   "cell_type": "code",
   "execution_count": 28,
   "id": "f89b3b5c-42af-47ad-b452-2b845fdcdcea",
   "metadata": {},
   "outputs": [
    {
     "data": {
      "text/html": [
       "<div>\n",
       "<style scoped>\n",
       "    .dataframe tbody tr th:only-of-type {\n",
       "        vertical-align: middle;\n",
       "    }\n",
       "\n",
       "    .dataframe tbody tr th {\n",
       "        vertical-align: top;\n",
       "    }\n",
       "\n",
       "    .dataframe thead th {\n",
       "        text-align: right;\n",
       "    }\n",
       "</style>\n",
       "<table border=\"1\" class=\"dataframe\">\n",
       "  <thead>\n",
       "    <tr style=\"text-align: right;\">\n",
       "      <th></th>\n",
       "      <th>Unnamed: 0</th>\n",
       "      <th>text</th>\n",
       "      <th>sentiment</th>\n",
       "    </tr>\n",
       "  </thead>\n",
       "  <tbody>\n",
       "    <tr>\n",
       "      <th>0</th>\n",
       "      <td>43956</td>\n",
       "      <td>Развода на деньги нет\\nНаблюдаюсь в Лайфклиник...</td>\n",
       "      <td>1</td>\n",
       "    </tr>\n",
       "    <tr>\n",
       "      <th>1</th>\n",
       "      <td>17755</td>\n",
       "      <td>Отель выбрали потому что рядом со стадионом. О...</td>\n",
       "      <td>0</td>\n",
       "    </tr>\n",
       "    <tr>\n",
       "      <th>2</th>\n",
       "      <td>20269</td>\n",
       "      <td>Вылечили\\nГноился с рождения глазик, в поликли...</td>\n",
       "      <td>1</td>\n",
       "    </tr>\n",
       "    <tr>\n",
       "      <th>3</th>\n",
       "      <td>16648</td>\n",
       "      <td>Хорошее расположение.С вокзала дошли пешком.Но...</td>\n",
       "      <td>0</td>\n",
       "    </tr>\n",
       "    <tr>\n",
       "      <th>4</th>\n",
       "      <td>27879</td>\n",
       "      <td>Отличное месторасположение,прекрасный вид,особ...</td>\n",
       "      <td>1</td>\n",
       "    </tr>\n",
       "  </tbody>\n",
       "</table>\n",
       "</div>"
      ],
      "text/plain": [
       "   Unnamed: 0                                               text  sentiment\n",
       "0       43956  Развода на деньги нет\\nНаблюдаюсь в Лайфклиник...          1\n",
       "1       17755  Отель выбрали потому что рядом со стадионом. О...          0\n",
       "2       20269  Вылечили\\nГноился с рождения глазик, в поликли...          1\n",
       "3       16648  Хорошее расположение.С вокзала дошли пешком.Но...          0\n",
       "4       27879  Отличное месторасположение,прекрасный вид,особ...          1"
      ]
     },
     "execution_count": 28,
     "metadata": {},
     "output_type": "execute_result"
    }
   ],
   "source": [
    "# Загрузка данных\n",
    "data = pd.read_csv('datasets.csv')\n",
    "text_column = \"text\"\n",
    "data[text_column] = data[text_column].str.slice(0, 1500)\n",
    "\n",
    "data.head()"
   ]
  },
  {
   "cell_type": "code",
   "execution_count": null,
   "id": "33c94832-5e58-412c-b125-2b222ab7de45",
   "metadata": {},
   "outputs": [],
   "source": [
    "data_clean = preprocess_data(data.copy())\n",
    "\n",
    "data_clean.head()"
   ]
  },
  {
   "cell_type": "code",
   "execution_count": null,
   "id": "087b2879-540c-42ad-9465-df06e24f3c6a",
   "metadata": {},
   "outputs": [],
   "source": [
    "visualization_of_the_dataset(data_clean)"
   ]
  },
  {
   "cell_type": "code",
   "execution_count": null,
   "id": "d917b102-c55f-4119-aa2e-9f53916d6b00",
   "metadata": {},
   "outputs": [],
   "source": [
    "data_clean.to_csv('data_clean.csv', index=False)"
   ]
  },
  {
   "cell_type": "code",
   "execution_count": null,
   "id": "0af5e70e-b130-4f0f-869e-f7d4db60ea37",
   "metadata": {},
   "outputs": [],
   "source": []
  }
 ],
 "metadata": {
  "kernelspec": {
   "display_name": "Python 3 (ipykernel)",
   "language": "python",
   "name": "python3"
  },
  "language_info": {
   "codemirror_mode": {
    "name": "ipython",
    "version": 3
   },
   "file_extension": ".py",
   "mimetype": "text/x-python",
   "name": "python",
   "nbconvert_exporter": "python",
   "pygments_lexer": "ipython3",
   "version": "3.13.0"
  }
 },
 "nbformat": 4,
 "nbformat_minor": 5
}
